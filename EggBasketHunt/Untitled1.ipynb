{
 "cells": [
  {
   "cell_type": "code",
   "execution_count": 16,
   "metadata": {},
   "outputs": [
    {
     "name": "stdout",
     "output_type": "stream",
     "text": [
      "2017-09-29 10:58:19.043500\n",
      "<class 'datetime.datetime'>\n",
      "2017-09-29 10:58:19.043500\n",
      "2017\n",
      "testing if 2017-09-29 10:58:19.043500 will show\n"
     ]
    }
   ],
   "source": [
    "import datetime\n",
    "def clock():\n",
    "    currentDT = datetime.datetime.now()\n",
    "    print (currentDT)\n",
    "    print (type(currentDT))\n",
    "    x= str(currentDT)\n",
    "    print(x)\n",
    "    print(x[0:4])\n",
    "    print(\"testing if {} will show\".format(currentDT))\n",
    "clock()"
   ]
  }
 ],
 "metadata": {
  "kernelspec": {
   "display_name": "Python 3",
   "language": "python",
   "name": "python3"
  },
  "language_info": {
   "codemirror_mode": {
    "name": "ipython",
    "version": 3
   },
   "file_extension": ".py",
   "mimetype": "text/x-python",
   "name": "python",
   "nbconvert_exporter": "python",
   "pygments_lexer": "ipython3",
   "version": "3.6.1"
  }
 },
 "nbformat": 4,
 "nbformat_minor": 2
}
