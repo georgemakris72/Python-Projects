{
 "cells": [
  {
   "cell_type": "code",
   "execution_count": null,
   "metadata": {},
   "outputs": [],
   "source": [
    "# x=\"hippopataumus\"\n",
    "# print (x.count(\"p\"))\n",
    "# print(len(x))\n",
    "# for k in range(3):\n",
    "#     x+=str(\"z\")\n",
    "# print(x)\n",
    "# s= list(x)\n",
    "# s[4]=\"w\"\n",
    "# s=\"\".join(s)\n",
    "# print(s)\n",
    "\n",
    "    \n",
    "from random import randint\n",
    "def hangman():\n",
    "    x=[\"python\", \"jumble\", \"easy\", \"difficult\", \"answer\",  \"xylophone\"]\n",
    "    word=randint(0,5)\n",
    "    r=list(x[word])\n",
    "    total=0\n",
    "    z=[]\n",
    "    \n",
    "    for i in range(len(r)):\n",
    "        z.append(\"^\")\n",
    "    \n",
    "    for j in range(100):\n",
    "        guess = input(\"Please guess a letter: \").lower()\n",
    "        h=0\n",
    "        if not guess.isalpha():\n",
    "            print(\"You can only enter in a letter.\")\n",
    "        else:\n",
    "            if(guess in z):\n",
    "                print(\"This letter is already in puzzle.\")\n",
    "            else:  \n",
    "                for k in range(len(r)):\n",
    "                    if (r[k]==guess):\n",
    "                        z[k]=guess\n",
    "                        h=h+1\n",
    "                        multiple=z.count(r[k])\n",
    "                        if(z==r):\n",
    "                            print(\"You have guessed correctly and found {} new letter(s)\".format(multiple))\n",
    "                            print(\"YOU HAVE WON THE GAME!!!\")\n",
    "                            return\n",
    "                if(h>=1):        \n",
    "                    print(\"You have guessed correctly and found {} new letter(s)\".format(multiple))\n",
    "            if (h<1 and guess not in z):\n",
    "                    print(\"You have guessed incorrectly.\")\n",
    "                    total=total+1\n",
    "                    if(total==1):\n",
    "                        print(\"The post has been added.\")\n",
    "                    elif (total==2):\n",
    "                        print(\"The head has been added.\")\n",
    "                    elif (total==3):\n",
    "                        print(\"The body has been added.\")\n",
    "                    elif (total==4):\n",
    "                        print (\"One arm has been added.\")\n",
    "                    elif (total==5):\n",
    "                        print (\"Another arm has been added.\")\n",
    "                    elif (total==6):\n",
    "                        print (\"One leg has been added.\")\n",
    "                    elif (total==7):\n",
    "                        print (\"Another leg has been added.\")\n",
    "                    elif (total == 8):\n",
    "                        print (\"The noose has been added.  YOU ARE DEAD!!!\")\n",
    "                        return\n",
    "                 \n",
    "        \n",
    "                \n",
    "                \n",
    "        \n",
    "hangman()          \n",
    "\n",
    "\n"
   ]
  },
  {
   "cell_type": "code",
   "execution_count": null,
   "metadata": {
    "collapsed": true
   },
   "outputs": [],
   "source": []
  },
  {
   "cell_type": "code",
   "execution_count": null,
   "metadata": {
    "collapsed": true
   },
   "outputs": [],
   "source": []
  }
 ],
 "metadata": {
  "kernelspec": {
   "display_name": "Python 3",
   "language": "python",
   "name": "python3"
  },
  "language_info": {
   "codemirror_mode": {
    "name": "ipython",
    "version": 3
   },
   "file_extension": ".py",
   "mimetype": "text/x-python",
   "name": "python",
   "nbconvert_exporter": "python",
   "pygments_lexer": "ipython3",
   "version": "3.6.1"
  }
 },
 "nbformat": 4,
 "nbformat_minor": 2
}
