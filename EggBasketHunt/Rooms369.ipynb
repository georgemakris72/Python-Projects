{
 "cells": [
  {
   "cell_type": "code",
   "execution_count": null,
   "metadata": {
    "collapsed": true
   },
   "outputs": [],
   "source": [
    "class room3(EggBasketHunt):\n",
    "    def __init__(self):\n",
    "        EggBasketHunt._init_(self)\n",
    "        getItems(3)\n",
    "        if (movement=='S'):\n",
    "            Room9()\n",
    "        else:\n",
    "            print(\"you must pick a different direction\")\n",
    "            \n",
    "            \n",
    "class room6(EggBasketHunt):\n",
    "    def __init__(self):\n",
    "        EggBasketHunt._init_(self)\n",
    "        getItems(6)\n",
    "        if (movement=='N'):\n",
    "            Room9()\n",
    "        else:\n",
    "            print(\"you must pick a different direction\")\n",
    "            \n",
    "class room9(EggBasketHunt):\n",
    "    def __init__(self):\n",
    "        EggBasketHunt._init_(self):\n",
    "        if (movement=='N'):\n",
    "            Room3()\n",
    "        elif (movement=='S'):\n",
    "            Room6()\n",
    "        elif (movement=='E'):\n",
    "            Room10()\n",
    "        elif (movement=='S'):\n",
    "            Room8()\n",
    "        else:\n",
    "            print(\"you must pick a different direction\")\n",
    "            \n",
    "        "
   ]
  }
 ],
 "metadata": {
  "kernelspec": {
   "display_name": "Python 3",
   "language": "python",
   "name": "python3"
  },
  "language_info": {
   "codemirror_mode": {
    "name": "ipython",
    "version": 3
   },
   "file_extension": ".py",
   "mimetype": "text/x-python",
   "name": "python",
   "nbconvert_exporter": "python",
   "pygments_lexer": "ipython3",
   "version": "3.6.1"
  }
 },
 "nbformat": 4,
 "nbformat_minor": 2
}
