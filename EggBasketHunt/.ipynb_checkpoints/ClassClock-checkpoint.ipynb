{
 "cells": [
  {
   "cell_type": "code",
   "execution_count": 52,
   "metadata": {},
   "outputs": [
    {
     "name": "stdout",
     "output_type": "stream",
     "text": [
      "Today is Friday September 29, 2017 and the time is 03:56 PM\n"
     ]
    }
   ],
   "source": [
    "import datetime\n",
    "class TodaysTimeAndDate(object):\n",
    "    def __init__(self):\n",
    "        self.currentDT = datetime.datetime.now()\n",
    "      #  print(self.currentDT)\n",
    "        \n",
    "class Year(TodaysTimeAndDate):\n",
    "    def __init__(self):  \n",
    "        super(Year,self).__init__()\n",
    "        self.todaysYear=self.currentDT.strftime(\"%Y\")\n",
    "     #   print(self.todaysYear)\n",
    "\n",
    "class Month (TodaysTimeAndDate):\n",
    "    def __init__(self):  \n",
    "        super(Month,self).__init__()\n",
    "        self.todaysMonth=self.currentDT.strftime(\"%B\")\n",
    "      #  print(self.todaysMonth)\n",
    "        \n",
    "class Date (TodaysTimeAndDate):\n",
    "     def __init__(self):  \n",
    "        super(Date,self).__init__()\n",
    "        self.todaysDate=self.currentDT.strftime(\"%d\")\n",
    "      #  print(self.todaysDate)\n",
    "        \n",
    "class Day (TodaysTimeAndDate):\n",
    "     def __init__(self):  \n",
    "        super(Day,self).__init__()\n",
    "        self.todaysDay=self.currentDT.strftime(\"%A\")\n",
    "      #  print(self.todaysDay)\n",
    "\n",
    "class Time (TodaysTimeAndDate):\n",
    "    def __init__(self):  \n",
    "        super(Time,self).__init__()\n",
    "        self.todaysTime=self.currentDT.strftime(\"%I:%M %p\")\n",
    "       # print(self.todaysTime)\n",
    "    \n",
    "        \n",
    "        \n",
    "class Everything (Year, Month, Date, Day, Time):\n",
    "    def  __init__(self):\n",
    "        super(Everything,self).__init__()\n",
    "        print(\"Today is {} {} {}, {} and the time is {}\".format(self.todaysDay, self.todaysMonth, self.todaysDate, self.todaysYear, self.todaysTime))\n",
    "        \n",
    "Today= Everything()\n",
    "        \n",
    "        \n",
    "        \n",
    "        \n",
    "        \n",
    "        "
   ]
  },
  {
   "cell_type": "code",
   "execution_count": null,
   "metadata": {
    "collapsed": true
   },
   "outputs": [],
   "source": []
  }
 ],
 "metadata": {
  "kernelspec": {
   "display_name": "Python 3",
   "language": "python",
   "name": "python3"
  },
  "language_info": {
   "codemirror_mode": {
    "name": "ipython",
    "version": 3
   },
   "file_extension": ".py",
   "mimetype": "text/x-python",
   "name": "python",
   "nbconvert_exporter": "python",
   "pygments_lexer": "ipython3",
   "version": "3.6.1"
  }
 },
 "nbformat": 4,
 "nbformat_minor": 2
}
